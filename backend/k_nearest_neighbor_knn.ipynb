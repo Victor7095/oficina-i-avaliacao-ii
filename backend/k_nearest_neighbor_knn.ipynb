{
  "cells": [
    {
      "cell_type": "code",
      "execution_count": 101,
      "metadata": {
        "id": "iKB9E-2M2aRS"
      },
      "outputs": [],
      "source": [
        "import numpy as np\n",
        "import pandas as pd\n",
        "import matplotlib.pyplot as plt\n",
        "import seaborn as sns\n",
        "\n",
        "from sklearn.model_selection import train_test_split\n",
        "from sklearn.neighbors import KNeighborsClassifier\n",
        "from sklearn import metrics\n",
        "\n",
        "ROOT = \"dataset processado\"\n",
        "RATINGS_ONLY_PATH = ROOT + '/ratings-only.csv'\n",
        "MOVIES_ONLY_PATH = ROOT + '/movies-only.csv'"
      ]
    },
    {
      "cell_type": "code",
      "execution_count": 2,
      "metadata": {
        "id": "xLzqI8hx6D9u"
      },
      "outputs": [],
      "source": [
        "# Import the ratings dataset\n",
        "df_ratings = pd.read_csv(ROOT + '/ratings-only.csv')"
      ]
    },
    {
      "cell_type": "code",
      "execution_count": 3,
      "metadata": {
        "colab": {
          "base_uri": "https://localhost:8080/",
          "height": 202
        },
        "id": "cWIotRWl6Sgz",
        "outputId": "35829d00-29ac-446e-fafb-f10d17a2889d"
      },
      "outputs": [
        {
          "data": {
            "text/html": [
              "<div>\n",
              "<style scoped>\n",
              "    .dataframe tbody tr th:only-of-type {\n",
              "        vertical-align: middle;\n",
              "    }\n",
              "\n",
              "    .dataframe tbody tr th {\n",
              "        vertical-align: top;\n",
              "    }\n",
              "\n",
              "    .dataframe thead th {\n",
              "        text-align: right;\n",
              "    }\n",
              "</style>\n",
              "<table border=\"1\" class=\"dataframe\">\n",
              "  <thead>\n",
              "    <tr style=\"text-align: right;\">\n",
              "      <th></th>\n",
              "      <th>userId</th>\n",
              "      <th>movieId</th>\n",
              "      <th>movieTitle</th>\n",
              "      <th>rating</th>\n",
              "    </tr>\n",
              "  </thead>\n",
              "  <tbody>\n",
              "    <tr>\n",
              "      <th>0</th>\n",
              "      <td>15</td>\n",
              "      <td>1</td>\n",
              "      <td>Toy Story</td>\n",
              "      <td>2.0</td>\n",
              "    </tr>\n",
              "    <tr>\n",
              "      <th>1</th>\n",
              "      <td>15</td>\n",
              "      <td>2</td>\n",
              "      <td>Jumanji</td>\n",
              "      <td>2.0</td>\n",
              "    </tr>\n",
              "    <tr>\n",
              "      <th>2</th>\n",
              "      <td>15</td>\n",
              "      <td>5</td>\n",
              "      <td>Grumpier Old Men</td>\n",
              "      <td>4.5</td>\n",
              "    </tr>\n",
              "    <tr>\n",
              "      <th>3</th>\n",
              "      <td>15</td>\n",
              "      <td>6</td>\n",
              "      <td>Waiting to Exhale</td>\n",
              "      <td>4.0</td>\n",
              "    </tr>\n",
              "    <tr>\n",
              "      <th>4</th>\n",
              "      <td>15</td>\n",
              "      <td>10</td>\n",
              "      <td>Father of the Bride Part II</td>\n",
              "      <td>3.0</td>\n",
              "    </tr>\n",
              "  </tbody>\n",
              "</table>\n",
              "</div>"
            ],
            "text/plain": [
              "   userId  movieId                   movieTitle  rating\n",
              "0      15        1                    Toy Story     2.0\n",
              "1      15        2                      Jumanji     2.0\n",
              "2      15        5             Grumpier Old Men     4.5\n",
              "3      15        6            Waiting to Exhale     4.0\n",
              "4      15       10  Father of the Bride Part II     3.0"
            ]
          },
          "execution_count": 3,
          "metadata": {},
          "output_type": "execute_result"
        }
      ],
      "source": [
        "# Converting sklearn data into Pandas dataframe\n",
        "# target variables imply\n",
        "# 0.0 - Setosa\n",
        "# 1.0 - Versicolor\n",
        "# 2.0 - Virginica\n",
        "df_ratings.head()"
      ]
    },
    {
      "cell_type": "code",
      "execution_count": 4,
      "metadata": {},
      "outputs": [
        {
          "data": {
            "text/plain": [
              "(55141, 4)"
            ]
          },
          "execution_count": 4,
          "metadata": {},
          "output_type": "execute_result"
        }
      ],
      "source": [
        "df_ratings.shape"
      ]
    },
    {
      "cell_type": "code",
      "execution_count": 5,
      "metadata": {},
      "outputs": [
        {
          "data": {
            "text/plain": [
              "8291"
            ]
          },
          "execution_count": 5,
          "metadata": {},
          "output_type": "execute_result"
        }
      ],
      "source": [
        "# Number of movies\n",
        "df_ratings['movieId'].nunique()"
      ]
    },
    {
      "cell_type": "code",
      "execution_count": 6,
      "metadata": {},
      "outputs": [
        {
          "data": {
            "text/plain": [
              "100"
            ]
          },
          "execution_count": 6,
          "metadata": {},
          "output_type": "execute_result"
        }
      ],
      "source": [
        "# Number of users\n",
        "df_ratings['userId'].nunique()"
      ]
    },
    {
      "cell_type": "markdown",
      "metadata": {
        "id": "0pDaMUm4JNyO"
      },
      "source": [
        "## Checking for outliers and imbalanced data"
      ]
    },
    {
      "cell_type": "code",
      "execution_count": 7,
      "metadata": {
        "colab": {
          "base_uri": "https://localhost:8080/",
          "height": 297
        },
        "id": "bCz9sMTeHyk2",
        "outputId": "8ef10d2c-769e-431f-ff89-54b9d400448e"
      },
      "outputs": [
        {
          "data": {
            "text/plain": [
              "<AxesSubplot:xlabel='rating', ylabel='count'>"
            ]
          },
          "execution_count": 7,
          "metadata": {},
          "output_type": "execute_result"
        },
        {
          "data": {
            "image/png": "[encoded data removed]",
            "text/plain": [
              "<Figure size 432x288 with 1 Axes>"
            ]
          },
          "metadata": {
            "needs_background": "light"
          },
          "output_type": "display_data"
        }
      ],
      "source": [
        "sns.countplot(x='rating', data=df_ratings)"
      ]
    },
    {
      "cell_type": "markdown",
      "metadata": {
        "id": "ATmOfn96JXSC"
      },
      "source": [
        "## Separating features and target"
      ]
    },
    {
      "cell_type": "code",
      "execution_count": 8,
      "metadata": {},
      "outputs": [
        {
          "data": {
            "text/html": [
              "<div>\n",
              "<style scoped>\n",
              "    .dataframe tbody tr th:only-of-type {\n",
              "        vertical-align: middle;\n",
              "    }\n",
              "\n",
              "    .dataframe tbody tr th {\n",
              "        vertical-align: top;\n",
              "    }\n",
              "\n",
              "    .dataframe thead th {\n",
              "        text-align: right;\n",
              "    }\n",
              "</style>\n",
              "<table border=\"1\" class=\"dataframe\">\n",
              "  <thead>\n",
              "    <tr style=\"text-align: right;\">\n",
              "      <th>movieTitle</th>\n",
              "      <th>'night, Mother</th>\n",
              "      <th>...All the Marbles</th>\n",
              "      <th>...And God Created Woman</th>\n",
              "      <th>...And Justice for All</th>\n",
              "      <th>...tick... tick... tick...</th>\n",
              "      <th>1-900</th>\n",
              "      <th>10</th>\n",
              "      <th>10 Rillington Place</th>\n",
              "      <th>10 Things I Hate About You</th>\n",
              "      <th>10 to Midnight</th>\n",
              "      <th>...</th>\n",
              "      <th>Zorba the Greek</th>\n",
              "      <th>Zorro, The Gay Blade</th>\n",
              "      <th>Zus &amp; Zo</th>\n",
              "      <th>eXistenZ</th>\n",
              "      <th>ivans xtc.</th>\n",
              "      <th>xXx</th>\n",
              "      <th>¡Three Amigos!</th>\n",
              "      <th>À Nous la Liberté</th>\n",
              "      <th>À la mode</th>\n",
              "      <th>’Round Midnight</th>\n",
              "    </tr>\n",
              "    <tr>\n",
              "      <th>userId</th>\n",
              "      <th></th>\n",
              "      <th></th>\n",
              "      <th></th>\n",
              "      <th></th>\n",
              "      <th></th>\n",
              "      <th></th>\n",
              "      <th></th>\n",
              "      <th></th>\n",
              "      <th></th>\n",
              "      <th></th>\n",
              "      <th></th>\n",
              "      <th></th>\n",
              "      <th></th>\n",
              "      <th></th>\n",
              "      <th></th>\n",
              "      <th></th>\n",
              "      <th></th>\n",
              "      <th></th>\n",
              "      <th></th>\n",
              "      <th></th>\n",
              "      <th></th>\n",
              "    </tr>\n",
              "  </thead>\n",
              "  <tbody>\n",
              "    <tr>\n",
              "      <th>15</th>\n",
              "      <td>0.0</td>\n",
              "      <td>0.0</td>\n",
              "      <td>0.0</td>\n",
              "      <td>0.0</td>\n",
              "      <td>0.0</td>\n",
              "      <td>2.0</td>\n",
              "      <td>0.0</td>\n",
              "      <td>0.0</td>\n",
              "      <td>0.0</td>\n",
              "      <td>0.0</td>\n",
              "      <td>...</td>\n",
              "      <td>0.0</td>\n",
              "      <td>0.0</td>\n",
              "      <td>0.0</td>\n",
              "      <td>0.0</td>\n",
              "      <td>0.0</td>\n",
              "      <td>0.0</td>\n",
              "      <td>0.0</td>\n",
              "      <td>0.0</td>\n",
              "      <td>1.0</td>\n",
              "      <td>0.0</td>\n",
              "    </tr>\n",
              "    <tr>\n",
              "      <th>17</th>\n",
              "      <td>0.0</td>\n",
              "      <td>0.0</td>\n",
              "      <td>0.0</td>\n",
              "      <td>0.0</td>\n",
              "      <td>0.0</td>\n",
              "      <td>0.0</td>\n",
              "      <td>0.0</td>\n",
              "      <td>0.0</td>\n",
              "      <td>0.0</td>\n",
              "      <td>0.0</td>\n",
              "      <td>...</td>\n",
              "      <td>0.0</td>\n",
              "      <td>0.0</td>\n",
              "      <td>0.0</td>\n",
              "      <td>0.0</td>\n",
              "      <td>0.0</td>\n",
              "      <td>0.0</td>\n",
              "      <td>0.0</td>\n",
              "      <td>0.0</td>\n",
              "      <td>0.0</td>\n",
              "      <td>0.0</td>\n",
              "    </tr>\n",
              "    <tr>\n",
              "      <th>19</th>\n",
              "      <td>0.0</td>\n",
              "      <td>0.0</td>\n",
              "      <td>0.0</td>\n",
              "      <td>0.0</td>\n",
              "      <td>0.0</td>\n",
              "      <td>0.0</td>\n",
              "      <td>0.0</td>\n",
              "      <td>0.0</td>\n",
              "      <td>0.0</td>\n",
              "      <td>0.0</td>\n",
              "      <td>...</td>\n",
              "      <td>0.0</td>\n",
              "      <td>0.0</td>\n",
              "      <td>0.0</td>\n",
              "      <td>0.0</td>\n",
              "      <td>0.0</td>\n",
              "      <td>0.0</td>\n",
              "      <td>0.0</td>\n",
              "      <td>0.0</td>\n",
              "      <td>0.0</td>\n",
              "      <td>0.0</td>\n",
              "    </tr>\n",
              "    <tr>\n",
              "      <th>23</th>\n",
              "      <td>0.0</td>\n",
              "      <td>0.0</td>\n",
              "      <td>0.0</td>\n",
              "      <td>0.0</td>\n",
              "      <td>0.0</td>\n",
              "      <td>0.0</td>\n",
              "      <td>0.0</td>\n",
              "      <td>0.0</td>\n",
              "      <td>4.0</td>\n",
              "      <td>0.0</td>\n",
              "      <td>...</td>\n",
              "      <td>0.0</td>\n",
              "      <td>0.0</td>\n",
              "      <td>0.0</td>\n",
              "      <td>1.5</td>\n",
              "      <td>0.0</td>\n",
              "      <td>0.0</td>\n",
              "      <td>3.5</td>\n",
              "      <td>0.0</td>\n",
              "      <td>0.0</td>\n",
              "      <td>0.0</td>\n",
              "    </tr>\n",
              "    <tr>\n",
              "      <th>30</th>\n",
              "      <td>1.0</td>\n",
              "      <td>0.0</td>\n",
              "      <td>0.0</td>\n",
              "      <td>0.0</td>\n",
              "      <td>0.0</td>\n",
              "      <td>0.0</td>\n",
              "      <td>0.0</td>\n",
              "      <td>0.0</td>\n",
              "      <td>4.0</td>\n",
              "      <td>0.0</td>\n",
              "      <td>...</td>\n",
              "      <td>0.0</td>\n",
              "      <td>0.0</td>\n",
              "      <td>0.0</td>\n",
              "      <td>4.0</td>\n",
              "      <td>0.0</td>\n",
              "      <td>0.0</td>\n",
              "      <td>4.0</td>\n",
              "      <td>0.0</td>\n",
              "      <td>4.0</td>\n",
              "      <td>0.0</td>\n",
              "    </tr>\n",
              "  </tbody>\n",
              "</table>\n",
              "<p>5 rows × 8291 columns</p>\n",
              "</div>"
            ],
            "text/plain": [
              "movieTitle  'night, Mother  ...All the Marbles  ...And God Created Woman  \\\n",
              "userId                                                                     \n",
              "15                     0.0                 0.0                       0.0   \n",
              "17                     0.0                 0.0                       0.0   \n",
              "19                     0.0                 0.0                       0.0   \n",
              "23                     0.0                 0.0                       0.0   \n",
              "30                     1.0                 0.0                       0.0   \n",
              "\n",
              "movieTitle  ...And Justice for All  ...tick... tick... tick...  1-900   10  \\\n",
              "userId                                                                       \n",
              "15                             0.0                         0.0    2.0  0.0   \n",
              "17                             0.0                         0.0    0.0  0.0   \n",
              "19                             0.0                         0.0    0.0  0.0   \n",
              "23                             0.0                         0.0    0.0  0.0   \n",
              "30                             0.0                         0.0    0.0  0.0   \n",
              "\n",
              "movieTitle  10 Rillington Place  10 Things I Hate About You  10 to Midnight  \\\n",
              "userId                                                                        \n",
              "15                          0.0                         0.0             0.0   \n",
              "17                          0.0                         0.0             0.0   \n",
              "19                          0.0                         0.0             0.0   \n",
              "23                          0.0                         4.0             0.0   \n",
              "30                          0.0                         4.0             0.0   \n",
              "\n",
              "movieTitle  ...  Zorba the Greek  Zorro, The Gay Blade  Zus & Zo  eXistenZ  \\\n",
              "userId      ...                                                              \n",
              "15          ...              0.0                   0.0       0.0       0.0   \n",
              "17          ...              0.0                   0.0       0.0       0.0   \n",
              "19          ...              0.0                   0.0       0.0       0.0   \n",
              "23          ...              0.0                   0.0       0.0       1.5   \n",
              "30          ...              0.0                   0.0       0.0       4.0   \n",
              "\n",
              "movieTitle  ivans xtc.  xXx  ¡Three Amigos!  À Nous la Liberté  À la mode  \\\n",
              "userId                                                                      \n",
              "15                 0.0  0.0             0.0                0.0        1.0   \n",
              "17                 0.0  0.0             0.0                0.0        0.0   \n",
              "19                 0.0  0.0             0.0                0.0        0.0   \n",
              "23                 0.0  0.0             3.5                0.0        0.0   \n",
              "30                 0.0  0.0             4.0                0.0        4.0   \n",
              "\n",
              "movieTitle  ’Round Midnight  \n",
              "userId                       \n",
              "15                      0.0  \n",
              "17                      0.0  \n",
              "19                      0.0  \n",
              "23                      0.0  \n",
              "30                      0.0  \n",
              "\n",
              "[5 rows x 8291 columns]"
            ]
          },
          "execution_count": 8,
          "metadata": {},
          "output_type": "execute_result"
        }
      ],
      "source": [
        "movie_ratings_pivot=df_ratings.pivot(index=\"userId\",columns=\"movieTitle\",values=\"rating\").fillna(0)\n",
        "movie_ratings_pivot.head()"
      ]
    },
    {
      "cell_type": "code",
      "execution_count": 9,
      "metadata": {
        "id": "7F-21a1E7lkG"
      },
      "outputs": [
        {
          "data": {
            "text/plain": [
              "<100x8291 sparse matrix of type '<class 'numpy.float64'>'\n",
              "\twith 55141 stored elements in Compressed Sparse Row format>"
            ]
          },
          "execution_count": 9,
          "metadata": {},
          "output_type": "execute_result"
        }
      ],
      "source": [
        "from scipy.sparse import csr_matrix\n",
        "\n",
        "# convert dataframe of movie features to scipy sparse matrix\n",
        "mat_movie_features = csr_matrix(movie_ratings_pivot.values)\n",
        "mat_movie_features"
      ]
    },
    {
      "cell_type": "markdown",
      "metadata": {},
      "source": [
        "# Configure KNN model"
      ]
    },
    {
      "cell_type": "code",
      "execution_count": 10,
      "metadata": {},
      "outputs": [],
      "source": [
        "from sklearn.neighbors import NearestNeighbors\n",
        "model_knn = NearestNeighbors(metric='cosine', algorithm='brute', n_neighbors=20, n_jobs=-1)"
      ]
    },
    {
      "cell_type": "code",
      "execution_count": 11,
      "metadata": {},
      "outputs": [
        {
          "data": {
            "text/plain": [
              "NearestNeighbors(algorithm='brute', metric='cosine', n_jobs=-1, n_neighbors=20)"
            ]
          },
          "execution_count": 11,
          "metadata": {},
          "output_type": "execute_result"
        }
      ],
      "source": [
        "model_knn.fit(mat_movie_features)"
      ]
    },
    {
      "cell_type": "markdown",
      "metadata": {},
      "source": [
        "# Escolhendo usuário aleatório e listando os filmes que maior avaliação"
      ]
    },
    {
      "cell_type": "code",
      "execution_count": 12,
      "metadata": {},
      "outputs": [
        {
          "data": {
            "text/html": [
              "<div>\n",
              "<style scoped>\n",
              "    .dataframe tbody tr th:only-of-type {\n",
              "        vertical-align: middle;\n",
              "    }\n",
              "\n",
              "    .dataframe tbody tr th {\n",
              "        vertical-align: top;\n",
              "    }\n",
              "\n",
              "    .dataframe thead th {\n",
              "        text-align: right;\n",
              "    }\n",
              "</style>\n",
              "<table border=\"1\" class=\"dataframe\">\n",
              "  <thead>\n",
              "    <tr style=\"text-align: right;\">\n",
              "      <th></th>\n",
              "      <th>userId</th>\n",
              "      <th>movieId</th>\n",
              "      <th>movieTitle</th>\n",
              "      <th>rating</th>\n",
              "    </tr>\n",
              "  </thead>\n",
              "  <tbody>\n",
              "    <tr>\n",
              "      <th>16323</th>\n",
              "      <td>232</td>\n",
              "      <td>1939</td>\n",
              "      <td>Cyborg</td>\n",
              "      <td>5.0</td>\n",
              "    </tr>\n",
              "    <tr>\n",
              "      <th>16214</th>\n",
              "      <td>232</td>\n",
              "      <td>1245</td>\n",
              "      <td>All Dogs Go to Heaven</td>\n",
              "      <td>5.0</td>\n",
              "    </tr>\n",
              "    <tr>\n",
              "      <th>16212</th>\n",
              "      <td>232</td>\n",
              "      <td>1243</td>\n",
              "      <td>Shallow Grave</td>\n",
              "      <td>5.0</td>\n",
              "    </tr>\n",
              "    <tr>\n",
              "      <th>16211</th>\n",
              "      <td>232</td>\n",
              "      <td>1242</td>\n",
              "      <td>Rocky V</td>\n",
              "      <td>5.0</td>\n",
              "    </tr>\n",
              "    <tr>\n",
              "      <th>16208</th>\n",
              "      <td>232</td>\n",
              "      <td>1237</td>\n",
              "      <td>Needful Things</td>\n",
              "      <td>5.0</td>\n",
              "    </tr>\n",
              "  </tbody>\n",
              "</table>\n",
              "</div>"
            ],
            "text/plain": [
              "       userId  movieId             movieTitle  rating\n",
              "16323     232     1939                 Cyborg     5.0\n",
              "16214     232     1245  All Dogs Go to Heaven     5.0\n",
              "16212     232     1243          Shallow Grave     5.0\n",
              "16211     232     1242                Rocky V     5.0\n",
              "16208     232     1237         Needful Things     5.0"
            ]
          },
          "execution_count": 12,
          "metadata": {},
          "output_type": "execute_result"
        }
      ],
      "source": [
        "user_index = 232\n",
        "user_favorite_movies = df_ratings[df_ratings['userId'] == user_index].sort_values('rating', ascending=False)\n",
        "user_favorite_movies.head()"
      ]
    },
    {
      "cell_type": "code",
      "execution_count": 74,
      "metadata": {},
      "outputs": [
        {
          "data": {
            "text/plain": [
              "movieTitle\n",
              "'night, Mother                0.0\n",
              "...All the Marbles            0.0\n",
              "...And God Created Woman      0.0\n",
              "...And Justice for All        0.0\n",
              "...tick... tick... tick...    0.0\n",
              "                             ... \n",
              "xXx                           0.0\n",
              "¡Three Amigos!                2.0\n",
              "À Nous la Liberté             0.0\n",
              "À la mode                     4.0\n",
              "’Round Midnight               0.0\n",
              "Name: 232, Length: 8291, dtype: float64"
            ]
          },
          "execution_count": 74,
          "metadata": {},
          "output_type": "execute_result"
        }
      ],
      "source": [
        "movie_ratings_pivot.loc[user_index]"
      ]
    },
    {
      "cell_type": "markdown",
      "metadata": {},
      "source": [
        "# Recomendando filme"
      ]
    },
    {
      "cell_type": "code",
      "execution_count": 134,
      "metadata": {},
      "outputs": [],
      "source": [
        "def recommend(user_id):\n",
        "    distances, indices = model_knn.kneighbors(\n",
        "                movie_ratings_pivot.loc[user_id].values.reshape(1,-1),\n",
        "                n_neighbors=2)\n",
        "\n",
        "    user_ratings = movie_ratings_pivot.loc[user_id]\n",
        "\n",
        "    closest_user_id = movie_ratings_pivot.index[indices.flatten()[1]]\n",
        "    closest_user_ratings = movie_ratings_pivot.loc[closest_user_id]\n",
        "    \n",
        "    r = movie_ratings_pivot.loc[closest_user_id][(closest_user_ratings > 0) & (user_ratings == 0)]\n",
        "    r = r.sort_values(ascending=False)\n",
        "\n",
        "    return r"
      ]
    },
    {
      "cell_type": "code",
      "execution_count": 176,
      "metadata": {},
      "outputs": [
        {
          "data": {
            "text/plain": [
              "movieTitle\n",
              "Indiana Jones and the Temple of Doom    5.0\n",
              "Roman Holiday                           5.0\n",
              "Black Knight                            5.0\n",
              "Outrageous Fortune                      5.0\n",
              "Outbreak                                5.0\n",
              "The Shop on Main Street                 5.0\n",
              "The Town Is Quiet                       5.0\n",
              "Nina Takes a Lover                      5.0\n",
              "Mulholland Falls                        5.0\n",
              "Casablanca                              5.0\n",
              "Name: 119, dtype: float64"
            ]
          },
          "execution_count": 176,
          "metadata": {},
          "output_type": "execute_result"
        }
      ],
      "source": [
        "recommendations = recommend(user_index)\n",
        "recommendations.head(10)"
      ]
    },
    {
      "cell_type": "code",
      "execution_count": 170,
      "metadata": {},
      "outputs": [
        {
          "data": {
            "text/html": [
              "<div>\n",
              "<style scoped>\n",
              "    .dataframe tbody tr th:only-of-type {\n",
              "        vertical-align: middle;\n",
              "    }\n",
              "\n",
              "    .dataframe tbody tr th {\n",
              "        vertical-align: top;\n",
              "    }\n",
              "\n",
              "    .dataframe thead th {\n",
              "        text-align: right;\n",
              "    }\n",
              "</style>\n",
              "<table border=\"1\" class=\"dataframe\">\n",
              "  <thead>\n",
              "    <tr style=\"text-align: right;\">\n",
              "      <th></th>\n",
              "      <th>currentId</th>\n",
              "      <th>title</th>\n",
              "      <th>overview</th>\n",
              "      <th>genres</th>\n",
              "      <th>runtime</th>\n",
              "      <th>releaseDate</th>\n",
              "      <th>posterPath</th>\n",
              "    </tr>\n",
              "  </thead>\n",
              "  <tbody>\n",
              "    <tr>\n",
              "      <th>0</th>\n",
              "      <td>1</td>\n",
              "      <td>Toy Story</td>\n",
              "      <td>Led by Woody, Andy's toys live happily in his ...</td>\n",
              "      <td>Animation, Comedy, Family</td>\n",
              "      <td>81.0</td>\n",
              "      <td>1995-10-30</td>\n",
              "      <td>https://flixpatrol.com/runtime/cache/files/pos...</td>\n",
              "    </tr>\n",
              "    <tr>\n",
              "      <th>1</th>\n",
              "      <td>2</td>\n",
              "      <td>Jumanji</td>\n",
              "      <td>When siblings Judy and Peter discover an encha...</td>\n",
              "      <td>Adventure, Fantasy, Family</td>\n",
              "      <td>104.0</td>\n",
              "      <td>1995-12-15</td>\n",
              "      <td>https://flixpatrol.com/runtime/cache/files/pos...</td>\n",
              "    </tr>\n",
              "    <tr>\n",
              "      <th>2</th>\n",
              "      <td>5</td>\n",
              "      <td>Grumpier Old Men</td>\n",
              "      <td>A family wedding reignites the ancient feud be...</td>\n",
              "      <td>Romance, Comedy</td>\n",
              "      <td>101.0</td>\n",
              "      <td>1995-12-22</td>\n",
              "      <td>https://flixpatrol.com/runtime/cache/files/pos...</td>\n",
              "    </tr>\n",
              "    <tr>\n",
              "      <th>3</th>\n",
              "      <td>6</td>\n",
              "      <td>Waiting to Exhale</td>\n",
              "      <td>Cheated on, mistreated and stepped on, the wom...</td>\n",
              "      <td>Comedy, Drama, Romance</td>\n",
              "      <td>127.0</td>\n",
              "      <td>1995-12-22</td>\n",
              "      <td>https://flixpatrol.com/runtime/cache/files/pos...</td>\n",
              "    </tr>\n",
              "    <tr>\n",
              "      <th>4</th>\n",
              "      <td>10</td>\n",
              "      <td>Father of the Bride Part II</td>\n",
              "      <td>Just when George Banks has recovered from his ...</td>\n",
              "      <td>Comedy</td>\n",
              "      <td>106.0</td>\n",
              "      <td>1995-02-10</td>\n",
              "      <td>https://flixpatrol.com/runtime/cache/files/pos...</td>\n",
              "    </tr>\n",
              "  </tbody>\n",
              "</table>\n",
              "</div>"
            ],
            "text/plain": [
              "   currentId                        title  \\\n",
              "0          1                    Toy Story   \n",
              "1          2                      Jumanji   \n",
              "2          5             Grumpier Old Men   \n",
              "3          6            Waiting to Exhale   \n",
              "4         10  Father of the Bride Part II   \n",
              "\n",
              "                                            overview  \\\n",
              "0  Led by Woody, Andy's toys live happily in his ...   \n",
              "1  When siblings Judy and Peter discover an encha...   \n",
              "2  A family wedding reignites the ancient feud be...   \n",
              "3  Cheated on, mistreated and stepped on, the wom...   \n",
              "4  Just when George Banks has recovered from his ...   \n",
              "\n",
              "                       genres  runtime releaseDate  \\\n",
              "0   Animation, Comedy, Family     81.0  1995-10-30   \n",
              "1  Adventure, Fantasy, Family    104.0  1995-12-15   \n",
              "2             Romance, Comedy    101.0  1995-12-22   \n",
              "3      Comedy, Drama, Romance    127.0  1995-12-22   \n",
              "4                      Comedy    106.0  1995-02-10   \n",
              "\n",
              "                                          posterPath  \n",
              "0  https://flixpatrol.com/runtime/cache/files/pos...  \n",
              "1  https://flixpatrol.com/runtime/cache/files/pos...  \n",
              "2  https://flixpatrol.com/runtime/cache/files/pos...  \n",
              "3  https://flixpatrol.com/runtime/cache/files/pos...  \n",
              "4  https://flixpatrol.com/runtime/cache/files/pos...  "
            ]
          },
          "execution_count": 170,
          "metadata": {},
          "output_type": "execute_result"
        }
      ],
      "source": [
        "df_movies = pd.read_csv(MOVIES_ONLY_PATH)\n",
        "df_movies.head()"
      ]
    },
    {
      "cell_type": "code",
      "execution_count": 190,
      "metadata": {},
      "outputs": [
        {
          "data": {
            "text/html": [
              "<div>\n",
              "<style scoped>\n",
              "    .dataframe tbody tr th:only-of-type {\n",
              "        vertical-align: middle;\n",
              "    }\n",
              "\n",
              "    .dataframe tbody tr th {\n",
              "        vertical-align: top;\n",
              "    }\n",
              "\n",
              "    .dataframe thead th {\n",
              "        text-align: right;\n",
              "    }\n",
              "</style>\n",
              "<table border=\"1\" class=\"dataframe\">\n",
              "  <thead>\n",
              "    <tr style=\"text-align: right;\">\n",
              "      <th></th>\n",
              "      <th>title</th>\n",
              "      <th>currentId</th>\n",
              "      <th>overview</th>\n",
              "      <th>rating</th>\n",
              "      <th>genres</th>\n",
              "      <th>runtime</th>\n",
              "      <th>releaseDate</th>\n",
              "      <th>posterPath</th>\n",
              "    </tr>\n",
              "  </thead>\n",
              "  <tbody>\n",
              "    <tr>\n",
              "      <th>0</th>\n",
              "      <td>Some Like It Hot</td>\n",
              "      <td>3897</td>\n",
              "      <td>Two musicians witness a mob hit and struggle t...</td>\n",
              "      <td>5.0</td>\n",
              "      <td>Comedy, Romance</td>\n",
              "      <td>122.0</td>\n",
              "      <td>1959-03-18</td>\n",
              "      <td>https://flixpatrol.com/runtime/cache/files/pos...</td>\n",
              "    </tr>\n",
              "    <tr>\n",
              "      <th>1</th>\n",
              "      <td>Something to Talk About</td>\n",
              "      <td>745</td>\n",
              "      <td>In one of her best-ever roles, Julia Roberts i...</td>\n",
              "      <td>5.0</td>\n",
              "      <td>Comedy</td>\n",
              "      <td>106.0</td>\n",
              "      <td>1995-08-04</td>\n",
              "      <td>https://flixpatrol.com/runtime/cache/files/pos...</td>\n",
              "    </tr>\n",
              "    <tr>\n",
              "      <th>2</th>\n",
              "      <td>The Town Is Quiet</td>\n",
              "      <td>3414</td>\n",
              "      <td>A dark tale of working-class life in Marseille...</td>\n",
              "      <td>5.0</td>\n",
              "      <td>Drama, Foreign</td>\n",
              "      <td>133.0</td>\n",
              "      <td>2000-08-30</td>\n",
              "      <td>https://flixpatrol.com/runtime/cache/files/pos...</td>\n",
              "    </tr>\n",
              "    <tr>\n",
              "      <th>3</th>\n",
              "      <td>War Stories Our Mother Never Told Us</td>\n",
              "      <td>3052</td>\n",
              "      <td>Seven New Zealand women speak about their live...</td>\n",
              "      <td>5.0</td>\n",
              "      <td>Action, Adventure, Crime, Mystery, Thriller</td>\n",
              "      <td>95.0</td>\n",
              "      <td>1995-10-27</td>\n",
              "      <td>https://flixpatrol.com/runtime/cache/files/pos...</td>\n",
              "    </tr>\n",
              "    <tr>\n",
              "      <th>4</th>\n",
              "      <td>Fled</td>\n",
              "      <td>3429</td>\n",
              "      <td>During a routine prison work detail, convict P...</td>\n",
              "      <td>5.0</td>\n",
              "      <td>Action, Comedy, Thriller</td>\n",
              "      <td>98.0</td>\n",
              "      <td>1996-07-19</td>\n",
              "      <td>https://flixpatrol.com/runtime/cache/files/pos...</td>\n",
              "    </tr>\n",
              "    <tr>\n",
              "      <th>...</th>\n",
              "      <td>...</td>\n",
              "      <td>...</td>\n",
              "      <td>...</td>\n",
              "      <td>...</td>\n",
              "      <td>...</td>\n",
              "      <td>...</td>\n",
              "      <td>...</td>\n",
              "      <td>...</td>\n",
              "    </tr>\n",
              "    <tr>\n",
              "      <th>330</th>\n",
              "      <td>Monsters, Inc.</td>\n",
              "      <td>3490</td>\n",
              "      <td>James Sullivan and Mike Wazowski are monsters,...</td>\n",
              "      <td>1.0</td>\n",
              "      <td>Animation, Comedy, Family</td>\n",
              "      <td>92.0</td>\n",
              "      <td>2001-11-01</td>\n",
              "      <td>https://flixpatrol.com/runtime/cache/files/pos...</td>\n",
              "    </tr>\n",
              "    <tr>\n",
              "      <th>331</th>\n",
              "      <td>Federal Hill</td>\n",
              "      <td>1556</td>\n",
              "      <td>In Providence's Italian neighborhood, Federal ...</td>\n",
              "      <td>1.0</td>\n",
              "      <td>Action, Adventure, Crime, Mystery, Thriller</td>\n",
              "      <td>97.0</td>\n",
              "      <td>1995-02-24</td>\n",
              "      <td>https://flixpatrol.com/runtime/cache/files/pos...</td>\n",
              "    </tr>\n",
              "    <tr>\n",
              "      <th>332</th>\n",
              "      <td>Cold Fever</td>\n",
              "      <td>2710</td>\n",
              "      <td>A Japanese businessman travels to Iceland and ...</td>\n",
              "      <td>1.0</td>\n",
              "      <td>Drama, Comedy</td>\n",
              "      <td>85.0</td>\n",
              "      <td>1995-02-10</td>\n",
              "      <td>https://flixpatrol.com/runtime/cache/files/pos...</td>\n",
              "    </tr>\n",
              "    <tr>\n",
              "      <th>333</th>\n",
              "      <td>I Never Promised You a Rose Garden</td>\n",
              "      <td>611</td>\n",
              "      <td>A disturbed,institutionalized 16-year-old girl...</td>\n",
              "      <td>1.0</td>\n",
              "      <td>Drama</td>\n",
              "      <td>96.0</td>\n",
              "      <td>1977-07-14</td>\n",
              "      <td>https://flixpatrol.com/runtime/cache/files/pos...</td>\n",
              "    </tr>\n",
              "    <tr>\n",
              "      <th>334</th>\n",
              "      <td>Peanuts – Die Bank zahlt alles</td>\n",
              "      <td>2701</td>\n",
              "      <td>Harassed by classmates who won't accept his sh...</td>\n",
              "      <td>1.0</td>\n",
              "      <td>Comedy</td>\n",
              "      <td>111.0</td>\n",
              "      <td>1996-03-21</td>\n",
              "      <td>https://flixpatrol.com/runtime/cache/files/pos...</td>\n",
              "    </tr>\n",
              "  </tbody>\n",
              "</table>\n",
              "<p>335 rows × 8 columns</p>\n",
              "</div>"
            ],
            "text/plain": [
              "                                    title  currentId  \\\n",
              "0                        Some Like It Hot       3897   \n",
              "1                 Something to Talk About        745   \n",
              "2                       The Town Is Quiet       3414   \n",
              "3    War Stories Our Mother Never Told Us       3052   \n",
              "4                                    Fled       3429   \n",
              "..                                    ...        ...   \n",
              "330                        Monsters, Inc.       3490   \n",
              "331                          Federal Hill       1556   \n",
              "332                            Cold Fever       2710   \n",
              "333    I Never Promised You a Rose Garden        611   \n",
              "334        Peanuts – Die Bank zahlt alles       2701   \n",
              "\n",
              "                                              overview  rating  \\\n",
              "0    Two musicians witness a mob hit and struggle t...     5.0   \n",
              "1    In one of her best-ever roles, Julia Roberts i...     5.0   \n",
              "2    A dark tale of working-class life in Marseille...     5.0   \n",
              "3    Seven New Zealand women speak about their live...     5.0   \n",
              "4    During a routine prison work detail, convict P...     5.0   \n",
              "..                                                 ...     ...   \n",
              "330  James Sullivan and Mike Wazowski are monsters,...     1.0   \n",
              "331  In Providence's Italian neighborhood, Federal ...     1.0   \n",
              "332  A Japanese businessman travels to Iceland and ...     1.0   \n",
              "333  A disturbed,institutionalized 16-year-old girl...     1.0   \n",
              "334  Harassed by classmates who won't accept his sh...     1.0   \n",
              "\n",
              "                                          genres  runtime releaseDate  \\\n",
              "0                                Comedy, Romance    122.0  1959-03-18   \n",
              "1                                         Comedy    106.0  1995-08-04   \n",
              "2                                 Drama, Foreign    133.0  2000-08-30   \n",
              "3    Action, Adventure, Crime, Mystery, Thriller     95.0  1995-10-27   \n",
              "4                       Action, Comedy, Thriller     98.0  1996-07-19   \n",
              "..                                           ...      ...         ...   \n",
              "330                    Animation, Comedy, Family     92.0  2001-11-01   \n",
              "331  Action, Adventure, Crime, Mystery, Thriller     97.0  1995-02-24   \n",
              "332                                Drama, Comedy     85.0  1995-02-10   \n",
              "333                                        Drama     96.0  1977-07-14   \n",
              "334                                       Comedy    111.0  1996-03-21   \n",
              "\n",
              "                                            posterPath  \n",
              "0    https://flixpatrol.com/runtime/cache/files/pos...  \n",
              "1    https://flixpatrol.com/runtime/cache/files/pos...  \n",
              "2    https://flixpatrol.com/runtime/cache/files/pos...  \n",
              "3    https://flixpatrol.com/runtime/cache/files/pos...  \n",
              "4    https://flixpatrol.com/runtime/cache/files/pos...  \n",
              "..                                                 ...  \n",
              "330  https://flixpatrol.com/runtime/cache/files/pos...  \n",
              "331  https://flixpatrol.com/runtime/cache/files/pos...  \n",
              "332  https://flixpatrol.com/runtime/cache/files/pos...  \n",
              "333  https://flixpatrol.com/runtime/cache/files/pos...  \n",
              "334  https://flixpatrol.com/runtime/cache/files/pos...  \n",
              "\n",
              "[335 rows x 8 columns]"
            ]
          },
          "execution_count": 190,
          "metadata": {},
          "output_type": "execute_result"
        }
      ],
      "source": [
        "def get_formatted_recommendations(recommendations):\n",
        "  df_movies = pd.read_csv(MOVIES_ONLY_PATH)\n",
        "  df_movie_ratings = df_movies[df_movies['title'].isin(recommendations.index)]\n",
        "  df_movie_ratings = df_movie_ratings.set_index(\"title\")\n",
        "  df_movie_ratings.insert(2, 'rating', recommendations)\n",
        "  df_movie_ratings = df_movie_ratings.sort_values(by=['rating'], ascending=False)\n",
        "  return df_movie_ratings.reset_index()\n",
        "  \n",
        "df_formatted_recommendations = get_formatted_recommendations(recommendations)\n",
        "df_formatted_recommendations"
      ]
    }
  ],
  "metadata": {
    "colab": {
      "collapsed_sections": [],
      "name": "oficina k_nearest_neighbor_knn.ipynb",
      "provenance": []
    },
    "kernelspec": {
      "display_name": "Python 3",
      "name": "python3"
    },
    "language_info": {
      "codemirror_mode": {
        "name": "ipython",
        "version": 3
      },
      "file_extension": ".py",
      "mimetype": "text/x-python",
      "name": "python",
      "nbconvert_exporter": "python",
      "pygments_lexer": "ipython3",
      "version": "3.9.12"
    }
  },
  "nbformat": 4,
  "nbformat_minor": 0
}
